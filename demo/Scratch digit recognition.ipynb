{
 "cells": [
  {
   "cell_type": "code",
   "execution_count": 1,
   "metadata": {
    "collapsed": true
   },
   "outputs": [],
   "source": [
    "from scipy.io import loadmat\n",
    "import numpy as np\n",
    "import scipy.optimize as opt\n",
    "import pandas as pd\n",
    "import matplotlib.pyplot as plt"
   ]
  },
  {
   "cell_type": "code",
   "execution_count": 2,
   "metadata": {},
   "outputs": [],
   "source": [
    "data = loadmat('datasets/ex4data1.mat')\n",
    "X = data['X']\n",
    "y = data['y']\n",
    "weights = loadmat('datasets/ex4weights.mat')\n",
    "theta1 = weights['Theta1']    #Theta1 has size 25 x 401\n",
    "theta2 = weights['Theta2']    #Theta2 has size 10 x 26\n",
    "nn_params = np.hstack((theta1.ravel(order='F'), theta2.ravel(order='F')))    #unroll parameters\n"
   ]
  },
  {
   "cell_type": "code",
   "execution_count": 3,
   "metadata": {},
   "outputs": [],
   "source": [
    "# neural network hyperparameters\n",
    "input_layer_size = 400\n",
    "hidden_layer_size = 25\n",
    "num_labels = 10\n",
    "lmbda = 1"
   ]
  },
  {
   "cell_type": "code",
   "execution_count": 4,
   "metadata": {},
   "outputs": [],
   "source": [
    "def sigmoid(z):\n",
    "    return 1/(1+np.exp(-z))"
   ]
  },
  {
   "cell_type": "code",
   "execution_count": 5,
   "metadata": {},
   "outputs": [],
   "source": [
    "def nnCostFunc(nn_params, input_layer_size, hidden_layer_size, num_labels, X, y, lmbda):\n",
    "    theta1 = np.reshape(nn_params[:hidden_layer_size*(input_layer_size+1)], (hidden_layer_size, input_layer_size+1), 'F')\n",
    "    theta2 = np.reshape(nn_params[hidden_layer_size*(input_layer_size+1):], (num_labels, hidden_layer_size+1), 'F')\n",
    "\n",
    "    m = len(y)\n",
    "    ones = np.ones((m,1))\n",
    "    a1 = np.hstack((ones, X))\n",
    "    a2 = sigmoid(a1 @ theta1.T)\n",
    "    a2 = np.hstack((ones, a2))\n",
    "    h = sigmoid(a2 @ theta2.T)\n",
    "    \n",
    "    y_d = pd.get_dummies(y.flatten())\n",
    "    \n",
    "    temp1 = np.multiply(y_d, np.log(h))\n",
    "    temp2 = np.multiply(1-y_d, np.log(1-h))\n",
    "    temp3 = np.sum(temp1 + temp2)\n",
    "    \n",
    "    sum1 = np.sum(np.sum(np.power(theta1[:,1:],2), axis = 1))\n",
    "    sum2 = np.sum(np.sum(np.power(theta2[:,1:],2), axis = 1))\n",
    "    \n",
    "    return np.sum(temp3 / (-m)) + (sum1 + sum2) * lmbda / (2*m)"
   ]
  },
  {
   "cell_type": "code",
   "execution_count": 6,
   "metadata": {},
   "outputs": [],
   "source": [
    "def sigmoidGrad(z):\n",
    "    return np.multiply(sigmoid(z), 1-sigmoid(z))"
   ]
  },
  {
   "cell_type": "code",
   "execution_count": 7,
   "metadata": {},
   "outputs": [],
   "source": [
    "def randInitializeWeights(L_in, L_out):\n",
    "    epsilon = 0.12\n",
    "    return np.random.rand(L_out, L_in+1) * 2 * epsilon - epsilon\n"
   ]
  },
  {
   "cell_type": "code",
   "execution_count": 8,
   "metadata": {},
   "outputs": [],
   "source": [
    "\n",
    "initial_theta1 = randInitializeWeights(input_layer_size, hidden_layer_size)\n",
    "initial_theta2 = randInitializeWeights(hidden_layer_size, num_labels)\n",
    "nn_initial_params = np.hstack((initial_theta1.ravel(order='F'), initial_theta2.ravel(order='F')))\n"
   ]
  },
  {
   "cell_type": "code",
   "execution_count": 9,
   "metadata": {},
   "outputs": [],
   "source": [
    "def nnGrad(nn_params, input_layer_size, hidden_layer_size, num_labels, X, y, lmbda):\n",
    "    \n",
    "    initial_theta1 = np.reshape(nn_params[:hidden_layer_size*(input_layer_size+1)], (hidden_layer_size, input_layer_size+1), 'F')\n",
    "    initial_theta2 = np.reshape(nn_params[hidden_layer_size*(input_layer_size+1):], (num_labels, hidden_layer_size+1), 'F')\n",
    "    y_d = pd.get_dummies(y.flatten())\n",
    "    delta1 = np.zeros(initial_theta1.shape)\n",
    "    delta2 = np.zeros(initial_theta2.shape)\n",
    "    m = len(y)\n",
    "    \n",
    "    for i in range(X.shape[0]):\n",
    "        ones = np.ones(1)\n",
    "        a1 = np.hstack((ones, X[i]))\n",
    "        z2 = a1 @ initial_theta1.T\n",
    "        a2 = np.hstack((ones, sigmoid(z2)))\n",
    "        z3 = a2 @ initial_theta2.T\n",
    "        a3 = sigmoid(z3)\n",
    "\n",
    "        d3 = a3 - y_d.iloc[i,:][np.newaxis,:]\n",
    "        z2 = np.hstack((ones, z2))\n",
    "        d2 = np.multiply(initial_theta2.T @ d3.T, sigmoidGrad(z2).T[:,np.newaxis])\n",
    "        delta1 = delta1 + d2[1:,:] @ a1[np.newaxis,:]\n",
    "        delta2 = delta2 + d3.T @ a2[np.newaxis,:]\n",
    "        \n",
    "    delta1 /= m\n",
    "    delta2 /= m\n",
    "    #print(delta1.shape, delta2.shape)\n",
    "    delta1[:,1:] = delta1[:,1:] + initial_theta1[:,1:] * lmbda / m\n",
    "    delta2[:,1:] = delta2[:,1:] + initial_theta2[:,1:] * lmbda / m\n",
    "        \n",
    "    return np.hstack((delta1.ravel(order='F'), delta2.ravel(order='F')))"
   ]
  },
  {
   "cell_type": "code",
   "execution_count": 10,
   "metadata": {},
   "outputs": [],
   "source": [
    "nn_backprop_Params = nnGrad(nn_initial_params, input_layer_size, hidden_layer_size, num_labels, X, y, lmbda)"
   ]
  },
  {
   "cell_type": "code",
   "execution_count": 11,
   "metadata": {},
   "outputs": [],
   "source": [
    "def checkGradient(nn_initial_params,nn_backprop_Params,input_layer_size, hidden_layer_size, num_labels,myX,myy,mylambda=0.):\n",
    "    myeps = 0.0001\n",
    "    flattened = nn_initial_params\n",
    "    flattenedDs = nn_backprop_Params\n",
    "    n_elems = len(flattened) \n",
    "    #Pick ten random elements, compute numerical gradient, compare to respective D's\n",
    "    for i in range(10):\n",
    "        x = int(np.random.rand()*n_elems)\n",
    "        epsvec = np.zeros((n_elems,1))\n",
    "        epsvec[x] = myeps\n",
    "\n",
    "        cost_high = nnCostFunc(flattened + epsvec.flatten(),input_layer_size, hidden_layer_size, num_labels,myX,myy,mylambda)\n",
    "        cost_low  = nnCostFunc(flattened - epsvec.flatten(),input_layer_size, hidden_layer_size, num_labels,myX,myy,mylambda)\n",
    "        mygrad = (cost_high - cost_low) / float(2*myeps)\n",
    "        print(\"Element: {0}. Numerical Gradient = {1:.9f}. BackProp Gradient = {2:.9f}.\".format(x,mygrad,flattenedDs[x]))\n"
   ]
  },
  {
   "cell_type": "code",
   "execution_count": 12,
   "metadata": {},
   "outputs": [
    {
     "name": "stdout",
     "output_type": "stream",
     "text": [
      "Element: 1194. Numerical Gradient = 0.000076105. BackProp Gradient = 0.000076105.\nElement: 224. Numerical Gradient = 0.000005876. BackProp Gradient = 0.000005876.\nElement: 9468. Numerical Gradient = 0.000007977. BackProp Gradient = 0.000007977.\n"
     ]
    },
    {
     "name": "stdout",
     "output_type": "stream",
     "text": [
      "Element: 1501. Numerical Gradient = -0.000017818. BackProp Gradient = -0.000017818.\nElement: 3597. Numerical Gradient = -0.000283500. BackProp Gradient = -0.000283500.\nElement: 4245. Numerical Gradient = 0.012398885. BackProp Gradient = 0.012398885.\n"
     ]
    },
    {
     "name": "stdout",
     "output_type": "stream",
     "text": [
      "Element: 5106. Numerical Gradient = 0.002799117. BackProp Gradient = 0.002799117.\nElement: 8971. Numerical Gradient = -0.000011965. BackProp Gradient = -0.000011965.\nElement: 6890. Numerical Gradient = 0.008421828. BackProp Gradient = 0.008421828.\n"
     ]
    },
    {
     "name": "stdout",
     "output_type": "stream",
     "text": [
      "Element: 8390. Numerical Gradient = 0.000901382. BackProp Gradient = 0.000901382.\n"
     ]
    }
   ],
   "source": [
    "checkGradient(nn_initial_params,nn_backprop_Params,input_layer_size, hidden_layer_size, num_labels,X,y,lmbda)"
   ]
  },
  {
   "cell_type": "code",
   "execution_count": 13,
   "metadata": {},
   "outputs": [
    {
     "name": "stdout",
     "output_type": "stream",
     "text": [
      "(5000, 400)\n"
     ]
    },
    {
     "data": {
      "text/plain": [
       "96.17999999999999"
      ]
     },
     "execution_count": 19,
     "metadata": {},
     "output_type": "execute_result"
    }
   ],
   "source": [
    "theta_opt = opt.fmin_cg(maxiter = 50, f = nnCostFunc, x0 = nn_initial_params, fprime = nnGrad, \\\n",
    "                        args = (input_layer_size, hidden_layer_size, num_labels, X, y.flatten(), lmbda))\n",
    "\n",
    "theta1_opt = np.reshape(theta_opt[:hidden_layer_size*(input_layer_size+1)], (hidden_layer_size, input_layer_size+1), 'F')\n",
    "theta2_opt = np.reshape(theta_opt[hidden_layer_size*(input_layer_size+1):], (num_labels, hidden_layer_size+1), 'F')\n"
   ]
  },
  {
   "cell_type": "code",
   "execution_count": 14,
   "metadata": {},
   "outputs": [
    {
     "name": "stdout",
     "output_type": "stream",
     "text": [
      "(5000, 400)\n"
     ]
    },
    {
     "data": {
      "text/plain": [
       "96.17999999999999"
      ]
     },
     "execution_count": 19,
     "metadata": {},
     "output_type": "execute_result"
    }
   ],
   "source": [
    "def predict(theta1, theta2, X, y):\n",
    "    m = len(y)\n",
    "    ones = np.ones((m,1))\n",
    "    a1 = np.hstack((ones, X))\n",
    "    a2 = sigmoid(a1 @ theta1.T)\n",
    "    a2 = np.hstack((ones, a2))\n",
    "    h = sigmoid(a2 @ theta2.T)\n",
    "    return np.argmax(h, axis = 1) + 1\n"
   ]
  },
  {
   "cell_type": "code",
   "execution_count": 19,
   "metadata": {},
   "outputs": [
    {
     "name": "stdout",
     "output_type": "stream",
     "text": [
      "(5000, 400)\n"
     ]
    },
    {
     "data": {
      "text/plain": [
       "96.17999999999999"
      ]
     },
     "execution_count": 19,
     "metadata": {},
     "output_type": "execute_result"
    }
   ],
   "source": [
    "print(X.shape)\n",
    "pred = predict(theta1_opt, theta2_opt, X, y)\n",
    "np.mean(pred == y.flatten()) * 100\n"
   ]
  },
  {
   "cell_type": "code",
   "execution_count": null,
   "metadata": {},
   "outputs": [],
   "source": []
  }
 ],
 "metadata": {
  "kernelspec": {
   "display_name": "Python 2",
   "language": "python",
   "name": "python2"
  },
  "language_info": {
   "codemirror_mode": {
    "name": "ipython",
    "version": 2
   },
   "file_extension": ".py",
   "mimetype": "text/x-python",
   "name": "python",
   "nbconvert_exporter": "python",
   "pygments_lexer": "ipython2",
   "version": "2.7.6"
  }
 },
 "nbformat": 4,
 "nbformat_minor": 0
}
